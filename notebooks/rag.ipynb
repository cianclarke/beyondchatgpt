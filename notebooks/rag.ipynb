{
 "cells": [
  {
   "cell_type": "code",
   "execution_count": 1,
   "id": "0a2a3f42-a83a-4bd7-a5d4-16f370e7583b",
   "metadata": {},
   "outputs": [],
   "source": [
    "## RAG"
   ]
  },
  {
   "cell_type": "code",
   "execution_count": 2,
   "id": "f65c4d5d-0539-43ba-970b-b242c4ec7cc8",
   "metadata": {},
   "outputs": [],
   "source": [
    "%%capture\n",
    "# update or install the necessary libraries\n",
    "!pip install openai==0.28.1\n",
    "!pip install --upgrade langchain\n",
    "!pip install --upgrade python-dotenv"
   ]
  },
  {
   "cell_type": "code",
   "execution_count": 4,
   "id": "53b0a1cd-116a-4320-a850-2c1c6601bbd0",
   "metadata": {},
   "outputs": [],
   "source": [
    "from langchain.llms import OpenAI\n",
    "from langchain.document_loaders import TextLoader\n",
    "from langchain.embeddings.openai import OpenAIEmbeddings\n",
    "from langchain.text_splitter import CharacterTextSplitter\n",
    "from langchain.vectorstores import FAISS\n",
    "from langchain.chains import RetrievalQA"
   ]
  },
  {
   "cell_type": "code",
   "execution_count": 5,
   "id": "4e00316c-ac4f-4408-8a25-fe96ae0116b2",
   "metadata": {},
   "outputs": [],
   "source": [
    "loader = TextLoader(\"../stateoftheunion.txt\")"
   ]
  },
  {
   "cell_type": "code",
   "execution_count": 6,
   "id": "18e49760-c6a3-4535-a821-f8b24089a207",
   "metadata": {},
   "outputs": [],
   "source": [
    "documents = loader.load()\n",
    "text_splitter = CharacterTextSplitter(chunk_size=1000, chunk_overlap=0)\n",
    "texts = text_splitter.split_documents(documents)\n",
    "embeddings = OpenAIEmbeddings()\n",
    "db = FAISS.from_documents(texts, embeddings)"
   ]
  },
  {
   "cell_type": "code",
   "execution_count": 9,
   "id": "33e884e5-89fe-46e0-9d36-727e9f8ab8c3",
   "metadata": {},
   "outputs": [
    {
     "name": "stdout",
     "output_type": "stream",
     "text": [
      " President nominated Ketanji Brown Jackson to Supreme Court.\n"
     ]
    }
   ],
   "source": [
    "qa = RetrievalQA.from_chain_type(llm=OpenAI(), chain_type=\"stuff\", retriever=db.as_retriever())\n",
    "query = \"What did the president say about Ketanji Brown Jackson in one line or less, like yoda might answer\"\n",
    "print(qa.run(query))\n"
   ]
  },
  {
   "cell_type": "code",
   "execution_count": null,
   "id": "a88c2bf3-cd79-48db-8fa7-5a2c3a5e7775",
   "metadata": {},
   "outputs": [],
   "source": []
  },
  {
   "cell_type": "code",
   "execution_count": null,
   "id": "0b5c2997-2e32-4d55-8f32-2948e53c63e5",
   "metadata": {},
   "outputs": [],
   "source": []
  }
 ],
 "metadata": {
  "kernelspec": {
   "display_name": "Python 3 (ipykernel)",
   "language": "python",
   "name": "python3"
  },
  "language_info": {
   "codemirror_mode": {
    "name": "ipython",
    "version": 3
   },
   "file_extension": ".py",
   "mimetype": "text/x-python",
   "name": "python",
   "nbconvert_exporter": "python",
   "pygments_lexer": "ipython3",
   "version": "3.9.13"
  }
 },
 "nbformat": 4,
 "nbformat_minor": 5
}
